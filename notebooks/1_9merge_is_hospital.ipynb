{
 "cells": [
  {
   "cell_type": "code",
   "execution_count": null,
   "metadata": {},
   "outputs": [],
   "source": [
    "import os\n",
    "import pandas as pd\n",
    "import math"
   ]
  },
  {
   "cell_type": "code",
   "execution_count": 1,
   "metadata": {},
   "outputs": [],
   "source": [
    "# distance function \n",
    "import math\n",
    "def haversine(lat1, lon1, lat2, lon2):\n",
    "# distance function of the two coordinates \n",
    "# lat1: latitude of the first coordinate\n",
    "# lon1: longtitude of the first coordinate\n",
    "# lat2:latitude of the second coordinate\n",
    "# lon2: longtitude of the second coordinate\n",
    "# return the straight distance of the two coordinate in (km)\n",
    "\n",
    "    lat1 = math.radians(lat1)\n",
    "    lon1 = math.radians(lon1)\n",
    "    lat2 = math.radians(lat2)\n",
    "    lon2 = math.radians(lon2)\n",
    "\n",
    "\n",
    "    dlon = lon2 - lon1\n",
    "    dlat = lat2 - lat1\n",
    "    a = math.sin(dlat/2)**2 + math.cos(lat1) * math.cos(lat2) * math.sin(dlon/2)**2\n",
    "    c = 2 * math.atan2(math.sqrt(a), math.sqrt(1 - a))\n",
    "\n",
    "    r = 6371.0\n",
    "\n",
    "    distance = r * c\n",
    "\n",
    "    return distance\n"
   ]
  },
  {
   "cell_type": "code",
   "execution_count": 2,
   "metadata": {},
   "outputs": [],
   "source": [
    "def add_is_hospital (input_file, output_file):\n",
    "# this function is to add if there is nearby hospital within 5 km of the property and add it in to the data collection \n",
    "# input_file: the csv file needed to add in more features \n",
    "# output_file: is the csv name and the output path of the merged/adjusted csv file\n",
    "    search_radius = 5\n",
    "    hospital_data = pd.read_csv(\"../data/raw/hospital_address.csv\")\n",
    "    property_list = pd.read_csv(input_file)\n",
    "    is_hospital= [] \n",
    "    for count in range(len(property_list)):\n",
    "        property_lat=float(property_list[\"Latitude\"][count])\n",
    "        property_long=float (property_list[\"longitude\"][count])\n",
    "        is_nearby_hospital = False\n",
    "        for count in range(len(hospital_data)):\n",
    "            latitude_float= float(hospital_data[\"latitude\"][count])\n",
    "            longitude_float=float(hospital_data[\"longtitude\"][count])\n",
    "            if (latitude_float!=None)& (longitude_float!=None):\n",
    "                distance = haversine(property_lat, property_long, latitude_float, longitude_float)\n",
    "                if distance <= search_radius :\n",
    "                    is_nearby_hospital=True \n",
    "                    break\n",
    "        is_hospital.append(is_nearby_hospital)\n",
    "    property_list[\"is_nearby_hospital\"]= is_hospital\n",
    "    if not os.path.exists(\"../data/curated/eighth_clean\"):\n",
    "        os.makedirs(\"../data/curated/eighth_clean\")\n",
    "    property_list.to_csv(output_file,index=False)\n",
    "    "
   ]
  },
  {
   "cell_type": "code",
   "execution_count": 4,
   "metadata": {},
   "outputs": [],
   "source": [
    "add_is_hospital(\"../data/curated/seventh_clean/final/apartment_1.csv\",\"../data/curated/eighth_clean/apartment_1.csv\")\n",
    "add_is_hospital(\"../data/curated/seventh_clean/final/apartment_2.csv\",\"../data/curated/eighth_clean/apartment_2.csv\")\n",
    "add_is_hospital(\"../data/curated/seventh_clean/final/apartment_3.csv\",\"../data/curated/eighth_clean/apartment_3.csv\")\n",
    "add_is_hospital(\"../data/curated/seventh_clean/final/apartment_4.csv\",\"../data/curated/eighth_clean/apartment_4.csv\")\n",
    "add_is_hospital(\"../data/curated/seventh_clean/final/apartment_5.csv\",\"../data/curated/eighth_clean/apartment_5.csv\")\n",
    "add_is_hospital(\"../data/curated/seventh_clean/final/house_1.csv\",\"../data/curated/eighth_clean/house_1.csv\")\n",
    "add_is_hospital(\"../data/curated/seventh_clean/final/house_2.csv\",\"../data/curated/eighth_clean/house_2.csv\")\n",
    "add_is_hospital(\"../data/curated/seventh_clean/final/house_3.csv\",\"../data/curated/eighth_clean/house_3.csv\")\n",
    "add_is_hospital(\"../data/curated/seventh_clean/final/house_4.csv\",\"../data/curated/eighth_clean/house_4.csv\")\n",
    "add_is_hospital(\"../data/curated/seventh_clean/final/town_house.csv\",\"../data/curated/eighth_clean/town_house.csv\")\n"
   ]
  },
  {
   "cell_type": "code",
   "execution_count": null,
   "metadata": {},
   "outputs": [],
   "source": []
  }
 ],
 "metadata": {
  "kernelspec": {
   "display_name": "Python 3",
   "language": "python",
   "name": "python3"
  },
  "language_info": {
   "codemirror_mode": {
    "name": "ipython",
    "version": 3
   },
   "file_extension": ".py",
   "mimetype": "text/x-python",
   "name": "python",
   "nbconvert_exporter": "python",
   "pygments_lexer": "ipython3",
   "version": "3.10.3"
  },
  "orig_nbformat": 4
 },
 "nbformat": 4,
 "nbformat_minor": 2
}
