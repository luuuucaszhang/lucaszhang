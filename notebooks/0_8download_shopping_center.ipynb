{
 "cells": [
  {
   "cell_type": "code",
   "execution_count": 4,
   "metadata": {},
   "outputs": [
    {
     "name": "stdout",
     "output_type": "stream",
     "text": [
      "                    Shopping Center Name  \\\n",
      "0                      206 Bourke Street   \n",
      "1                             670 Chapel   \n",
      "2           Acland Court Shopping Centre   \n",
      "3            Altona Gate Shopping Centre   \n",
      "4                  Arena Shopping Centre   \n",
      "..                                   ...   \n",
      "208                        Wodonga Plaza   \n",
      "209            Woodgrove Shopping Centre   \n",
      "210     Woolworths Whitebox Rise Wodonga   \n",
      "211  Wyndham Vale Square Shopping Centre   \n",
      "212      Wyndham Village Shopping Centre   \n",
      "\n",
      "                                       GPS Information Number of stores  \n",
      "0    Victoria, Melbourne, GPS: -37.812733, 144.9669...               14  \n",
      "1    Victoria, Melbourne, GPS: -37.837395, 144.9961...               28  \n",
      "2    Victoria, St Kilda, GPS: -37.868967, 144.98061...               11  \n",
      "3    Victoria, Melbourne, GPS: -37.828989, 144.8462...               63  \n",
      "4    Victoria, Officer, GPS: -38.064493171914, 145....               30  \n",
      "..                                                 ...              ...  \n",
      "208  Victoria, Wodonga, GPS: -36.121153, 146.881917...               43  \n",
      "209  Victoria, Melton, GPS: -37.686167, 144.56127 |...              175  \n",
      "210  Victoria, Wodonga, GPS: -36.139008, 146.892456...                8  \n",
      "211  Victoria, Wyndham Vale, GPS: -37.888057, 144.6...               11  \n",
      "212  Victoria, Tarneit, GPS: -37.849333, 144.704302...               63  \n",
      "\n",
      "[213 rows x 3 columns]\n"
     ]
    }
   ],
   "source": [
    "import requests\n",
    "from bs4 import BeautifulSoup\n",
    "import pandas as pd\n",
    "\n",
    "url = \"https://www.australia-shoppings.com/malls-centres/victoria\"\n",
    "response = requests.get(url)\n",
    "\n",
    "if response.status_code == 200:\n",
    "    soup = BeautifulSoup(response.text, 'html.parser')\n",
    "\n",
    "    shopping_centers = soup.find_all('li')\n",
    "\n",
    "    center_names = []\n",
    "    gpss = []\n",
    "    store_nums = []\n",
    "\n",
    "    for center in shopping_centers:\n",
    "        name_info = center.find('h3', class_='tit')\n",
    "        gps_info = center.find('p', class_='st')\n",
    "        store_info = center.find('a', class_='stores')\n",
    "        \n",
    "        if name_info and gps_info and store_info:\n",
    "            name = name_info.a.text.strip()\n",
    "            gps = gps_info.text.strip()\n",
    "            store = store_info.text.strip()\n",
    "            \n",
    "            center_names.append(name)\n",
    "            gpss.append(gps)\n",
    "            store_nums.append(store)\n",
    "\n",
    "    data = {'Shopping Center Name': center_names, 'GPS Information': gpss, 'Number of stores': store_nums}\n",
    "    df = pd.DataFrame(data)\n",
    "\n",
    "    print(df)\n",
    "\n",
    "    df.to_csv('../data/landing/shopping_centers.csv', index=False)\n",
    "else:\n",
    "    print(f\"Error: {response.status_code} - Unable to retrieve the webpage.\")\n"
   ]
  },
  {
   "cell_type": "code",
   "execution_count": 2,
   "metadata": {},
   "outputs": [],
   "source": [
    "df = pd.read_csv('../data/landing/shopping_centers.csv')\n",
    "df['GPS Information'] = df['GPS Information'].str.extract(r'GPS:\\s(-?\\d+\\.\\d+,\\s-?\\d+\\.\\d+)')\n",
    "df.to_csv('../data/raw/shopping_centers.csv', index=False)"
   ]
  }
 ],
 "metadata": {
  "kernelspec": {
   "display_name": "Python 3",
   "language": "python",
   "name": "python3"
  },
  "language_info": {
   "codemirror_mode": {
    "name": "ipython",
    "version": 3
   },
   "file_extension": ".py",
   "mimetype": "text/x-python",
   "name": "python",
   "nbconvert_exporter": "python",
   "pygments_lexer": "ipython3",
   "version": "3.10.3"
  },
  "orig_nbformat": 4
 },
 "nbformat": 4,
 "nbformat_minor": 2
}
