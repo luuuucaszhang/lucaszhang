{
 "cells": [
  {
   "cell_type": "code",
   "execution_count": null,
   "metadata": {},
   "outputs": [],
   "source": [
    "import zipfile\n",
    "import os\n",
    "\n",
    "\n",
    "zip_file_path = 'https://www.abs.gov.au/statistics/people/population/regional-population/2021-22/32180_ERP_SA2_2021_gpkg.zip'\n",
    "\n",
    "if not os.path.exists(\"../data/landing/Geopackage\"):\n",
    "    os.makedirs(\"../data/landing/Geopackage\")\n",
    "\n",
    "\n",
    "\n",
    "\n",
    "extract_folder = '../data/landing/Geopackage/'\n",
    "\n",
    "\n",
    "with zipfile.ZipFile(zip_file_path, 'r') as zip_ref:\n",
    "\n",
    "    zip_ref.extractall(extract_folder)\n",
    "\n",
    "print(f\" {extract_folder}\")\n"
   ]
  },
  {
   "cell_type": "markdown",
   "metadata": {},
   "source": [
    "### This is to download the geopackage of SA2 10min\n"
   ]
  },
  {
   "cell_type": "code",
   "execution_count": 10,
   "metadata": {},
   "outputs": [
    {
     "name": "stdout",
     "output_type": "stream",
     "text": [
      "解压缩完成，文件已提取到 ../data/landing/Geopackage\n"
     ]
    }
   ],
   "source": [
    "\n",
    "import requests\n",
    "import zipfile\n",
    "import io\n",
    "import os\n",
    "\n",
    "\n",
    "zip_url = 'https://www.abs.gov.au/statistics/people/population/regional-population/2021-22/32180_ERP_SA2_2021_gpkg.zip'\n",
    "\n",
    "extract_folder = \"../data/landing/Geopackage\"\n",
    "\n",
    "\n",
    "if not os.path.exists(extract_folder):\n",
    "    os.makedirs(extract_folder)\n",
    "\n",
    "\n",
    "response = requests.get(zip_url)\n",
    "\n",
    "\n",
    "if response.status_code == 200:\n",
    "\n",
    "    zip_data = io.BytesIO(response.content)\n",
    "\n",
    "\n",
    "    with zipfile.ZipFile(zip_data, 'r') as zip_ref:\n",
    "\n",
    "        zip_ref.extractall(extract_folder)\n",
    "\n",
    "    print(f\"unziped{extract_folder}\")\n",
    "else:\n",
    "    print(\"zip download failed\")\n"
   ]
  },
  {
   "cell_type": "markdown",
   "metadata": {},
   "source": [
    "### Geoplot for LGA area "
   ]
  },
  {
   "cell_type": "code",
   "execution_count": 11,
   "metadata": {},
   "outputs": [
    {
     "name": "stdout",
     "output_type": "stream",
     "text": [
      "unziped../data/landing/Geopackage\n"
     ]
    }
   ],
   "source": [
    "\n",
    "import requests\n",
    "import zipfile\n",
    "import io\n",
    "import os\n",
    "\n",
    "\n",
    "zip_url = \"https://www.abs.gov.au/statistics/people/population/regional-population/2021-22/32180_ERP_LGA_2022_gpkg.zip\"\n",
    "\n",
    "extract_folder = \"../data/landing/Geopackage\"\n",
    "\n",
    "\n",
    "if not os.path.exists(extract_folder):\n",
    "    os.makedirs(extract_folder)\n",
    "\n",
    "\n",
    "response = requests.get(zip_url)\n",
    "\n",
    "\n",
    "if response.status_code == 200:\n",
    "\n",
    "    zip_data = io.BytesIO(response.content)\n",
    "\n",
    "\n",
    "    with zipfile.ZipFile(zip_data, 'r') as zip_ref:\n",
    "\n",
    "        zip_ref.extractall(extract_folder)\n",
    "\n",
    "    print(f\"unziped{extract_folder}\")\n",
    "else:\n",
    "    print(\"zip download failed\")\n"
   ]
  },
  {
   "cell_type": "code",
   "execution_count": null,
   "metadata": {},
   "outputs": [],
   "source": [
    "https://www.abs.gov.au/statistics/people/population/regional-population/2021-22/32180_ERP_LGA_2022_gpkg.zip"
   ]
  }
 ],
 "metadata": {
  "kernelspec": {
   "display_name": "Python 3",
   "language": "python",
   "name": "python3"
  },
  "language_info": {
   "codemirror_mode": {
    "name": "ipython",
    "version": 3
   },
   "file_extension": ".py",
   "mimetype": "text/x-python",
   "name": "python",
   "nbconvert_exporter": "python",
   "pygments_lexer": "ipython3",
   "version": "3.10.3"
  },
  "orig_nbformat": 4
 },
 "nbformat": 4,
 "nbformat_minor": 2
}
