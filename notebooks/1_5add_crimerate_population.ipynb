{
 "cells": [
  {
   "cell_type": "code",
   "execution_count": null,
   "metadata": {},
   "outputs": [],
   "source": [
    "import openpyxl\n",
    "import re\n",
    "import csv\n",
    "import os\n",
    "import pandas as pd\n",
    "import geopandas as gpd"
   ]
  },
  {
   "cell_type": "code",
   "execution_count": 13,
   "metadata": {},
   "outputs": [],
   "source": [
    "def add_crime_rate(input_file, output_file):\n",
    "# add crime to the data collection of each property \n",
    "# input_file: the csv file needed to add in more features \n",
    "# output_file: is the csv name and the output path of the merged/adjusted csv file\n",
    "    workbook = openpyxl.load_workbook('../data/landing/crime_data/Data_Tables_LGA_Recorded_Offences_Year_Ending_March_2023.xlsx')\n",
    "    input_data = pd.read_csv(input_file)\n",
    "    sheet=workbook[\"Table 01\"]\n",
    "    crime_rate_list =[]\n",
    "    for count in range(len(input_data)):\n",
    "        lga_name = input_data[\"LGA_name\"][count]\n",
    "        matched=False \n",
    "        for row_number in range(89, 171): \n",
    "            cell_value = str(sheet[\"D\" + str(row_number)].value)\n",
    "            cell_value = cell_value.lstrip()\n",
    "            if   cell_value in str(lga_name): \n",
    "                matched=True\n",
    "                crime_rate= sheet[\"F\" + str(row_number)].value\n",
    "                break\n",
    "            \n",
    "        if matched:\n",
    "            crime_rate_list.append(crime_rate)\n",
    "        else:\n",
    "            crime_rate_list.append(None)\n",
    "    if not os.path.exists (\"../data/curated/third_clean\"):\n",
    "        os.makedirs(\"../data/curated/third_clean\")\n",
    "    input_data[\"crime_rate_per 100,000 population\"]=crime_rate_list\n",
    "    input_data.to_csv(output_file,index=False)\n"
   ]
  },
  {
   "cell_type": "code",
   "execution_count": 14,
   "metadata": {},
   "outputs": [],
   "source": [
    "add_crime_rate(\"../data/curated/second_clean/apartment_1.csv\",\"../data/curated/third_clean/apartment_1.csv\")\n",
    "add_crime_rate(\"../data/curated/second_clean/apartment_2.csv\",\"../data/curated/third_clean/apartment_2.csv\")\n",
    "add_crime_rate(\"../data/curated/second_clean/apartment_3.csv\",\"../data/curated/third_clean/apartment_3.csv\")\n",
    "add_crime_rate(\"../data/curated/second_clean/apartment_4.csv\",\"../data/curated/third_clean/apartment_4.csv\")\n",
    "add_crime_rate(\"../data/curated/second_clean/apartment_5.csv\",\"../data/curated/third_clean/apartment_5.csv\")\n",
    "add_crime_rate(\"../data/curated/second_clean/house_1.csv\",\"../data/curated/third_clean/house_1.csv\")  \n",
    "add_crime_rate(\"../data/curated/second_clean/house_2.csv\",\"../data/curated/third_clean/house_2.csv\")  \n",
    "add_crime_rate(\"../data/curated/second_clean/house_3.csv\",\"../data/curated/third_clean/house_3.csv\")  \n",
    "add_crime_rate(\"../data/curated/second_clean/house_4.csv\",\"../data/curated/third_clean/house_4.csv\")  \n",
    "add_crime_rate(\"../data/curated/second_clean/town_house.csv\",\"../data/curated/third_clean/town_house.csv\")"
   ]
  },
  {
   "cell_type": "code",
   "execution_count": 15,
   "metadata": {},
   "outputs": [],
   "source": [
    "def add_population (input_file, output_file):    \n",
    "# add poopulation density to the data collection of each property \n",
    "# input_file: the csv file needed to add in more features \n",
    "# output_file: is the csv name and the output path of the merged/adjusted csv file\n",
    "    geopackage_path = \"../data/landing/Geopackage/SA2 ERP GeoPackage 2022.gpkg\"\n",
    "    gdf = gpd.read_file(geopackage_path)\n",
    "    selected_row = gdf[gdf[\"State_name_2021\"]==\"Victoria\"]\n",
    "    input_data = pd.read_csv(input_file)\n",
    "    pop_list=[]\n",
    "    for count in range(len(input_data)):\n",
    "        sa2_code = input_data[\"SA2_code\"][count]\n",
    "        matched=False \n",
    "        for row in range(len(selected_row)):\n",
    "            pop_sa2_code = selected_row[\"SA2_code_2021\"].iloc[row]\n",
    "            \n",
    "            if  sa2_code==pop_sa2_code:\n",
    "                pop_value= selected_row[\"Pop_density_2022_people_per_km2\"].iloc[row]\n",
    "                matched=True \n",
    "                break\n",
    "        if matched:\n",
    "            pop_list.append(pop_value)\n",
    "        else:\n",
    "            pop_list.append(None)\n",
    "    input_data[\"Population_density\"]= pop_list\n",
    "    if not os.path.exists (\"../data/curated/fourth_clean\"):\n",
    "        os.makedirs(\"../data/curated/fourth_clean\")\n",
    "    input_data.to_csv(output_file,index=False)\n",
    "\n",
    "\n"
   ]
  },
  {
   "cell_type": "code",
   "execution_count": null,
   "metadata": {},
   "outputs": [],
   "source": [
    "add_population(\"../data/curated/third_clean/apartment_1.csv\",\"../data/curated/fourth_clean/apartment_1.csv\")\n",
    "add_population(\"../data/curated/third_clean/apartment_2.csv\",\"../data/curated/fourth_clean/apartment_2.csv\")\n",
    "add_population(\"../data/curated/third_clean/apartment_3.csv\",\"../data/curated/fourth_clean/apartment_3.csv\")\n",
    "add_population(\"../data/curated/third_clean/apartment_4.csv\",\"../data/curated/fourth_clean/apartment_4.csv\")\n",
    "add_population(\"../data/curated/third_clean/apartment_5.csv\",\"../data/curated/fourth_clean/apartment_5.csv\")\n",
    "add_population(\"../data/curated/third_clean/house_1.csv\",\"../data/curated/fourth_clean/house_1.csv\")  \n",
    "add_population(\"../data/curated/third_clean/house_2.csv\",\"../data/curated/fourth_clean/house_2.csv\")  \n",
    "add_population(\"../data/curated/third_clean/house_3.csv\",\"../data/curated/fourth_clean/house_3.csv\")  \n",
    "add_population(\"../data/curated/third_clean/house_4.csv\",\"../data/curated/fourth_clean/house_4.csv\")  \n",
    "add_population(\"../data/curated/third_clean/town_house.csv\",\"../data/curated/fourth_clean/town_house.csv\")"
   ]
  }
 ],
 "metadata": {
  "kernelspec": {
   "display_name": "Python 3",
   "language": "python",
   "name": "python3"
  },
  "language_info": {
   "codemirror_mode": {
    "name": "ipython",
    "version": 3
   },
   "file_extension": ".py",
   "mimetype": "text/x-python",
   "name": "python",
   "nbconvert_exporter": "python",
   "pygments_lexer": "ipython3",
   "version": "3.10.3"
  },
  "orig_nbformat": 4
 },
 "nbformat": 4,
 "nbformat_minor": 2
}
