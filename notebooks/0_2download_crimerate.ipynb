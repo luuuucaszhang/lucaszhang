{
 "cells": [
  {
   "cell_type": "code",
   "execution_count": null,
   "metadata": {},
   "outputs": [],
   "source": [
    "# download LGA crime rate \n",
    "import os\n",
    "import requests\n",
    "from openpyxl import load_workbook\n",
    "\n",
    "url = \"https://files.crimestatistics.vic.gov.au/2023-06/Data_Tables_LGA_Recorded_Offences_Year_Ending_March_2023.xlsx\"\n",
    "\n",
    "\n",
    "folder_path = '../data/landing/crime_data'\n",
    "\n",
    "\n",
    "if not os.path.exists(folder_path):\n",
    "    os.makedirs(folder_path)\n",
    "\n",
    "\n",
    "file_name = url.split('/')[-1]\n",
    "\n",
    "\n",
    "full_file_path = os.path.join(folder_path, file_name)\n",
    "\n",
    "\n",
    "response = requests.get(url)\n",
    "\n",
    "\n",
    "if response.status_code == 200:\n",
    "    # Save the response content to the local file\n",
    "    with open(full_file_path, 'wb') as file:\n",
    "        file.write(response.content)\n",
    "    print(f'File \"{file_name}\" downloaded and saved to \"{full_file_path}\".')\n",
    "else:\n",
    "    print(f'Failed to download the file. HTTP status code: {response.status_code}')\n"
   ]
  }
 ],
 "metadata": {
  "language_info": {
   "name": "python"
  },
  "orig_nbformat": 4
 },
 "nbformat": 4,
 "nbformat_minor": 2
}
