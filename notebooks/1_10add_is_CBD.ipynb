{
 "cells": [
  {
   "cell_type": "code",
   "execution_count": 16,
   "metadata": {},
   "outputs": [],
   "source": [
    "import pandas as pd\n",
    "import os"
   ]
  },
  {
   "cell_type": "code",
   "execution_count": 24,
   "metadata": {},
   "outputs": [],
   "source": [
    "def add_is_CBD(input_file, output_file ):\n",
    "# this function is to determine if the property is in the cbd (sa2 area(206041503, 206041504, 206041503)) and add it in to the data collection\n",
    "# input_file: the csv file needed to add in more features \n",
    "# output_file: is the csv name and the output path of the merged/adjusted csv file\n",
    "\n",
    "    property_list=pd.read_csv(input_file)\n",
    "    desired_values = [206041503, 206041504, 206041503]\n",
    "    property_list[\"is_cbd\"] = property_list[\"SA2_code\"].isin(desired_values)\n",
    "    if not os.path.exists(\"../data/curated/ninth_clean\"):\n",
    "        os.makedirs(\"../data/curated/ninth_clean\")\n",
    "    property_list.to_csv(output_file,index=False)\n",
    "    "
   ]
  },
  {
   "cell_type": "code",
   "execution_count": 25,
   "metadata": {},
   "outputs": [],
   "source": [
    "add_is_CBD(\"../data/curated/eighth_clean/apartment_1.csv\",\"../data/curated/ninth_clean/apartment_1.csv\")\n",
    "add_is_CBD(\"../data/curated/eighth_clean/apartment_2.csv\",\"../data/curated/ninth_clean/apartment_2.csv\")\n",
    "add_is_CBD(\"../data/curated/eighth_clean/apartment_3.csv\",\"../data/curated/ninth_clean/apartment_3.csv\")\n",
    "add_is_CBD(\"../data/curated/eighth_clean/apartment_4.csv\",\"../data/curated/ninth_clean/apartment_4.csv\")\n",
    "add_is_CBD(\"../data/curated/eighth_clean/apartment_5.csv\",\"../data/curated/ninth_clean/apartment_5.csv\")\n",
    "add_is_CBD(\"../data/curated/eighth_clean/house_1.csv\",\"../data/curated/ninth_clean/house_1.csv\")\n",
    "add_is_CBD(\"../data/curated/eighth_clean/house_2.csv\",\"../data/curated/ninth_clean/house_2.csv\")\n",
    "add_is_CBD(\"../data/curated/eighth_clean/house_3.csv\",\"../data/curated/ninth_clean/house_3.csv\")\n",
    "add_is_CBD(\"../data/curated/eighth_clean/house_4.csv\",\"../data/curated/ninth_clean/house_4.csv\")\n",
    "add_is_CBD(\"../data/curated/eighth_clean/town_house.csv\",\"../data/curated/ninth_clean/town_house.csv\")\n",
    "\n"
   ]
  }
 ],
 "metadata": {
  "kernelspec": {
   "display_name": "Python 3",
   "language": "python",
   "name": "python3"
  },
  "language_info": {
   "codemirror_mode": {
    "name": "ipython",
    "version": 3
   },
   "file_extension": ".py",
   "mimetype": "text/x-python",
   "name": "python",
   "nbconvert_exporter": "python",
   "pygments_lexer": "ipython3",
   "version": "3.10.3"
  },
  "orig_nbformat": 4
 },
 "nbformat": 4,
 "nbformat_minor": 2
}
