{
 "cells": [
  {
   "cell_type": "code",
   "execution_count": null,
   "metadata": {},
   "outputs": [],
   "source": [
    "import math\n",
    "import csv\n",
    "import pandas as pd\n",
    "import os \n",
    "from collections import defaultdict"
   ]
  },
  {
   "cell_type": "code",
   "execution_count": 5,
   "metadata": {},
   "outputs": [],
   "source": [
    "def haversine(lat1, lon1, lat2, lon2):\n",
    "# distance function of the two coordinates \n",
    "# lat1: latitude of the first coordinate\n",
    "# lon1: longtitude of the first coordinate\n",
    "# lat2:latitude of the second coordinate\n",
    "# lon2: longtitude of the second coordinate\n",
    "# return the straight distance of the two coordinate in (km)\n",
    "    lat1 = math.radians(lat1)\n",
    "    lon1 = math.radians(lon1)\n",
    "    lat2 = math.radians(lat2)\n",
    "    lon2 = math.radians(lon2)\n",
    "\n",
    "    dlon = lon2 - lon1\n",
    "    dlat = lat2 - lat1\n",
    "    a = math.sin(dlat/2)**2 + math.cos(lat1) * math.cos(lat2) * math.sin(dlon/2)**2\n",
    "    c = 2 * math.atan2(math.sqrt(a), math.sqrt(1 - a))\n",
    "\n",
    "    r = 6371.0\n",
    "    distance = r * c\n",
    "\n",
    "    return distance\n"
   ]
  },
  {
   "cell_type": "code",
   "execution_count": 6,
   "metadata": {},
   "outputs": [],
   "source": [
    "def merge_shopping_center(input_file,shop_file,output_file,ptype):\n",
    "# added in the closest shopping centre of the property to the csv (name of the shopping centre , longtitude , latitude)\n",
    "# This function also added the property type as ptype in the csv \n",
    "# input_file: the csv file needed to add in more features \n",
    "# shop_file: the csv file with all the shooping centre and its coordinate in victoria \n",
    "# output_file: is the csv name and the output path of the merged/adjusted csv file    \n",
    "    shopping_centre_data = pd.read_csv(shop_file)\n",
    "    property_list = pd.read_csv(input_file)\n",
    "    search_radius=5\n",
    "    nerby_shopping_cernter_coord=[]\n",
    "    for count in range(len(property_list[\"Latitude\"])):\n",
    "        property_lat= float(property_list[\"Latitude\"][count])\n",
    "        property_long=float (property_list[\"longitude\"][count])\n",
    "        nearby_shopping_center = defaultdict(dict)\n",
    "        nearby_shop_name_coordinates=[]\n",
    "        cloest_shop_distance =10\n",
    "        name=None\n",
    "        number_of_store=None\n",
    "        latitude_float_cloest=None\n",
    "        longitude_float_cloest=None\n",
    "        for count in range(len(shopping_centre_data[\"GPS Information\"])):\n",
    "            latitude_float= float(shopping_centre_data[\"GPS Information\"][count].split(\", \")[0])\n",
    "            longitude_float=float(shopping_centre_data[\"GPS Information\"][count].split(\", \")[1])\n",
    "            distance = haversine(property_lat, property_long, latitude_float, longitude_float)\n",
    "            \n",
    "            if distance <= search_radius:\n",
    "                if distance<cloest_shop_distance:\n",
    "                    cloest_shop_distance=distance\n",
    "                    longitude_float_cloest= float(shopping_centre_data[\"GPS Information\"][count].split(\", \")[0])\n",
    "                    latitude_float_cloest=float(shopping_centre_data[\"GPS Information\"][count].split(\", \")[1])\n",
    "                    name= shopping_centre_data[\"Shopping Center Name\"][count]\n",
    "                    number_of_store = shopping_centre_data[\"Number of stores\"][count]    \n",
    "                        \n",
    "        nerby_shopping_cernter_coord.append([name,longitude_float_cloest,latitude_float_cloest,number_of_store])\n",
    "        \n",
    "        \n",
    "    new_column_values = nerby_shopping_cernter_coord  \n",
    "    property_list['Cloest_shops'] = new_column_values\n",
    "    if (ptype==\"apartment\"):\n",
    "        property_list[\"pyte\"]= \"apartment\"\n",
    "    elif (ptype==\"house\"):\n",
    "        property_list[\"pyte\"]= \"house\"\n",
    "    else:\n",
    "        property_list[\"pyte\"]= \"town_house\"\n",
    "        \n",
    "    if not os.path.exists(\"../data/curated/first_clean\"):\n",
    "        os.makedirs(\"../data/curated/first_clean\")\n",
    "    property_list.to_csv(output_file, index=False)\n",
    "    "
   ]
  },
  {
   "cell_type": "code",
   "execution_count": 7,
   "metadata": {},
   "outputs": [],
   "source": [
    "merge_shopping_center(\"../data/raw/properties/apartment_1.csv\",\"../data/raw/shopping_centers.csv\",\"../data/curated/first_clean/merge_shopping_center_apartment1.csv\",\"apartment\")\n",
    "merge_shopping_center(\"../data/raw/properties/apartment_2.csv\",\"../data/raw/shopping_centers.csv\",\"../data/curated/first_clean/merge_shopping_center_apartment2.csv\",\"apartment\")\n",
    "merge_shopping_center(\"../data/raw/properties/apartment_3.csv\",\"../data/raw/shopping_centers.csv\",\"../data/curated/first_clean/merge_shopping_center_apartment3.csv\",\"apartment\")\n",
    "merge_shopping_center(\"../data/raw/properties/apartment_4.csv\",\"../data/raw/shopping_centers.csv\",\"../data/curated/first_clean/merge_shopping_center_apartment4.csv\",\"apartment\")\n",
    "merge_shopping_center(\"../data/raw/properties/apartment_5.csv\",\"../data/raw/shopping_centers.csv\",\"../data/curated/first_clean/merge_shopping_center_apartment5.csv\",\"apartment\")\n",
    "merge_shopping_center(\"../data/raw/properties/house_1.csv\",\"../data/raw/shopping_centers.csv\",\"../data/curated/first_clean/merge_shopping_center_house_1.csv\",\"house\")\n",
    "merge_shopping_center(\"../data/raw/properties/house_2.csv\",\"../data/raw/shopping_centers.csv\",\"../data/curated/first_clean/merge_shopping_center_house_2.csv\",\"house\")\n",
    "merge_shopping_center(\"../data/raw/properties/house_4.csv\",\"../data/raw/shopping_centers.csv\",\"../data/curated/first_clean/merge_shopping_center_house_3.csv\",\"house\")\n",
    "merge_shopping_center(\"../data/raw/properties/house_5.csv\",\"../data/raw/shopping_centers.csv\",\"../data/curated/first_clean/merge_shopping_center_house_4.csv\",\"house\")\n",
    "merge_shopping_center(\"../data/raw/properties/town_house.csv\",\"../data/raw/shopping_centers.csv\",\"../data/curated/first_clean/merge_shopping_center_town_house.csv\",\"town_house\")"
   ]
  }
 ],
 "metadata": {
  "kernelspec": {
   "display_name": "Python 3",
   "language": "python",
   "name": "python3"
  },
  "language_info": {
   "codemirror_mode": {
    "name": "ipython",
    "version": 3
   },
   "file_extension": ".py",
   "mimetype": "text/x-python",
   "name": "python",
   "nbconvert_exporter": "python",
   "pygments_lexer": "ipython3",
   "version": "3.10.3"
  },
  "orig_nbformat": 4
 },
 "nbformat": 4,
 "nbformat_minor": 2
}
