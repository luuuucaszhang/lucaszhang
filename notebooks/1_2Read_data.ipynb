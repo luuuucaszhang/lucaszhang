{
 "cells": [
  {
   "cell_type": "code",
   "execution_count": null,
   "id": "bd40face",
   "metadata": {},
   "outputs": [],
   "source": [
    "import pandas as pd\n",
    "import numpy as np\n",
    "import re\n",
    "import os"
   ]
  },
  {
   "cell_type": "code",
   "execution_count": null,
   "id": "a7893923",
   "metadata": {},
   "outputs": [],
   "source": [
    "def json_to_csv(file_name , output_file):\n",
    "# This function is used to transformed the scraped data from the domain website json form in to csv form and stored it in to a folder . \n",
    "# parameter file_name :is the json file name \n",
    "# output_file: is the csv name and the output path of the csv file    \n",
    "    with open (file_name,\"r\",encoding=\"utf-8\") as file :\n",
    "        data = json.load(file)\n",
    "    rows = []\n",
    "    not_matched = 0\n",
    "    for url, details in data.items():\n",
    "        name_parts = details[\"name\"].split()\n",
    "        suburb = name_parts[-3]\n",
    "        state = name_parts[-2]\n",
    "        post = name_parts[-1]\n",
    "        try:\n",
    "            beds = int(details[\"rooms\"][0].split()[0])\n",
    "        except:\n",
    "            beds=0\n",
    "        try:\n",
    "            baths = int(details[\"rooms\"][1].split()[0])\n",
    "        except:\n",
    "            baths=0\n",
    "        try:\n",
    "            parking = int(details[\"parking\"][0].split()[0])\n",
    "        except:\n",
    "            parking = 0\n",
    "        \n",
    "        try :\n",
    "            \n",
    "            pattern = re.compile(r\"\\$?(\\d+(?:,\\d{3})*(?:\\.\\d+)?)(?:per week|pw|per\\s*week)?\")\n",
    "            matched=pattern.search(details[\"cost_text\"]) \n",
    "            if (matched):\n",
    "                cost = matched.group(1)\n",
    "            else:\n",
    "                not_matched +=1\n",
    "                cost=0\n",
    "        except:\n",
    "            cost = 0 \n",
    "            \n",
    "        rows.append({\n",
    "            \"name\": \" \".join(name_parts[:-3]),\n",
    "            \"Suburb\": suburb,\n",
    "            \"State\": state,\n",
    "            \"post\": post,\n",
    "            \"cost_text\": cost,\n",
    "            \"Latitude\": details[\"coordinates\"][0],\n",
    "            \"longitude\":details[\"coordinates\"][1],\n",
    "            \"Beds\": beds,\n",
    "            \"Baths\": baths,\n",
    "            \"Parking\": parking,\n",
    "            \"School\": details[\"school\"]\n",
    "        })\n",
    "\n",
    "    df = pd.DataFrame(rows)\n",
    "    df.to_csv(output_file,index=False)\n"
   ]
  },
  {
   "cell_type": "code",
   "execution_count": 71,
   "id": "a1ec8783",
   "metadata": {},
   "outputs": [],
   "source": [
    "if not os.path.exists(\"../data/raw/properties\"):\n",
    "    os.makedirs(\"../data/raw/properties\")\n",
    "json_to_csv(\"../data/landing/web_scraping/apartment_1.json\",\"../data/raw/properties/apartment_1.csv\")\n",
    "json_to_csv(\"../data/landing/web_scraping/apartment_2.json\",\"../data/raw/properties/apartment_2.csv\")\n",
    "json_to_csv(\"../data/landing/web_scraping/apartment_3.json\",\"../data/raw/properties/apartment_3.csv\")\n",
    "json_to_csv(\"../data/landing/web_scraping/apartment_4.json\",\"../data/raw/properties/apartment_4.csv\")\n",
    "json_to_csv(\"../data/landing/web_scraping/apartment_5.json\",\"../data/raw/properties/apartment_5.csv\")\n",
    "json_to_csv(\"../data/landing/web_scraping/house_1.json\",\"../data/raw/properties/house_1.csv\")\n",
    "json_to_csv(\"../data/landing/web_scraping/house_2.json\",\"../data/raw/properties/house_2.csv\")\n",
    "json_to_csv(\"../data/landing/web_scraping/house_4.json\",\"../data/raw/properties/house_4.csv\")\n",
    "json_to_csv(\"../data/landing/web_scraping/house_5.json\",\"../data/raw/properties/house_5.csv\")\n",
    "json_to_csv(\"../data/landing/web_scraping/town-house.json\",\"../data/raw/properties/town_house.csv\")"
   ]
  }
 ],
 "metadata": {
  "kernelspec": {
   "display_name": "Python 3 (ipykernel)",
   "language": "python",
   "name": "python3"
  },
  "language_info": {
   "codemirror_mode": {
    "name": "ipython",
    "version": 3
   },
   "file_extension": ".py",
   "mimetype": "text/x-python",
   "name": "python",
   "nbconvert_exporter": "python",
   "pygments_lexer": "ipython3",
   "version": "3.10.3"
  }
 },
 "nbformat": 4,
 "nbformat_minor": 5
}
