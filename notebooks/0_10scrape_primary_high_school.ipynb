{
 "cells": [
  {
   "cell_type": "code",
   "execution_count": null,
   "metadata": {},
   "outputs": [],
   "source": [
    "# get primary school rank \n",
    "import requests\n",
    "from bs4 import BeautifulSoup\n",
    "import re\n",
    "header = {\n",
    "    \"User-Agent\":\"Mozilla/5.0 (Macintosh; Intel Mac OS X 10_15_7) AppleWebKit/537.36 (KHTML, like Gecko) Chrome/116.0.0.0 Safari/537.36\"\n",
    "\n",
    "}\n",
    "\n",
    "url=\"https://bettereducation.com.au/school/secondary/vic/vic_top_secondary_schools.aspx\"\n",
    "response = requests.get(url,headers = header)\n",
    "html_content = response.content\n",
    "bs_object = BeautifulSoup(html_content, 'html.parser')\n",
    "school_list = []\n",
    "school_rank = []\n",
    "for i in range(3,454):\n",
    "    if i<10:\n",
    "        i=f\"0{i}\"\n",
    "    table_list = table.find(\"a\",{\"id\":f\"ctl00_ContentPlaceHolder1_GridView1_ctl{i}_HyperLinkSchool\"})\n",
    "    rank = table.find(\"span\",{\"id\":f\"ctl00_ContentPlaceHolder1_GridView1_ctl{i}_LabelOrder\"})\n",
    "    text= table_list.text.split(\",\")[0]\n",
    "    school_list.append(text)\n",
    "    school_rank.append(rank.text)\n",
    "data = {'School_name': school_list, 'Rank': school_rank}\n",
    "df = pd.DataFrame(data)\n",
    "df.to_csv('../data/landing/Primary_school.csv', index=False)\n",
    "    "
   ]
  },
  {
   "cell_type": "code",
   "execution_count": null,
   "metadata": {},
   "outputs": [],
   "source": [
    "# high school rank \n",
    "import requests\n",
    "from bs4 import BeautifulSoup\n",
    "import re\n",
    "\n",
    "url_list = [\"https://www.topscores.co/Vic/vce-school-rank-median-vce/2022/?nr=200\",\"https://www.topscores.co/Vic/vce-school-rank-median-vce/2022/?r=201&nr=200\",\"https://www.topscores.co/Vic/vce-school-rank-median-vce/2022/?r=401&nr=200\",\"https://www.topscores.co/Vic/vce-school-rank-median-vce/2022/?r=601&nr=200\"]\n",
    "header = {\n",
    "    \"User-Agent\":\"Mozilla/5.0 (Macintosh; Intel Mac OS X 10_15_7) AppleWebKit/537.36 (KHTML, like Gecko) Chrome/116.0.0.0 Safari/537.36\"\n",
    "}\n",
    "\n",
    "school_list = []\n",
    "school_rank = list(range(1,647))\n",
    "for url in url_list:\n",
    "    response = requests.get(url,headers = header)\n",
    "    html_content = response.content\n",
    "    bs_object = BeautifulSoup(html_content, 'html.parser')\n",
    "    list_of_school = bs_object.find(\"table\",{\"class\":\"reportTable\"}).findAll(\"a\",href=re.compile(\"/Vic/school/*\"))\n",
    "    for i in list_of_school:\n",
    "        school_list.append(i.text)\n",
    "data = {'School_name': school_list, 'Rank': school_rank}\n",
    "df = pd.DataFrame(data)\n",
    "df.to_csv('../data/landing/High_school.csv', index=False)"
   ]
  }
 ],
 "metadata": {
  "language_info": {
   "name": "python"
  },
  "orig_nbformat": 4
 },
 "nbformat": 4,
 "nbformat_minor": 2
}
