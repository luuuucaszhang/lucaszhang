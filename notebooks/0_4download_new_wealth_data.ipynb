{
 "cells": [
  {
   "cell_type": "code",
   "execution_count": null,
   "metadata": {},
   "outputs": [],
   "source": [
    "import requests\n",
    "import os\n",
    "url = \"https://www.abs.gov.au/statistics/labour/earnings-and-working-conditions/personal-income-australia/2015-16-2019-20/6524055002_DO001.xlsx\" # 替换为实际的文件URL\n",
    "\n",
    "\n",
    "header = {\n",
    "    \"User-Agent\":\"Mozilla/5.0 (Macintosh; Intel Mac OS X 10_15_7) AppleWebKit/537.36 (KHTML, like Gecko) Chrome/116.0.0.0 Safari/537.36\"\n",
    "}\n",
    "\n",
    "response = requests.get(url, headers=header)\n",
    "os.makedirs(\"../data/landing/new_wealth\")\n",
    "\n",
    "if response.status_code == 200:\n",
    "\n",
    "    file_name = \"../data/landing/new_wealth/new_wealth_data.xlsx\"  \n",
    "\n",
    "    with open(file_name, 'wb') as file:\n",
    "        file.write(response.content)\n",
    "    print(f\"{file_name} downloaded \")\n",
    "else:\n",
    "    print(\"download failed\")\n"
   ]
  }
 ],
 "metadata": {
  "language_info": {
   "name": "python"
  },
  "orig_nbformat": 4
 },
 "nbformat": 4,
 "nbformat_minor": 2
}
