{
 "cells": [
  {
   "cell_type": "code",
   "execution_count": 1,
   "metadata": {},
   "outputs": [],
   "source": [
    "import csv\n",
    "import pandas as pd \n",
    "import ast\n",
    "import os"
   ]
  },
  {
   "cell_type": "code",
   "execution_count": 175,
   "metadata": {},
   "outputs": [],
   "source": [
    "def add_school_rank (input_file,output_file):\n",
    "# add each school's rank that present scraped school list of each property\n",
    "# input_file: the csv file needed to add in more features \n",
    "# output_file: is the csv name and the output path of the merged/adjusted csv file\n",
    "    data = pd.read_csv(input_file)\n",
    "    primary_data=pd.read_csv(\"../data/landing/Primary_school.csv\")\n",
    "    high_data = pd.read_csv(\"../data/landing/High_school.csv\")\n",
    "    all_school_dict = []\n",
    "    \n",
    "    \n",
    "    for row in data[\"School\"]:\n",
    "        data_dict = ast.literal_eval(row)\n",
    "        school_dict=[]\n",
    "        # this will have maximum of three schools \n",
    "        for i in data_dict.keys():\n",
    "            Pschool_name = i\n",
    "            distance = data_dict[i]\n",
    "            Found = False \n",
    "            rank =None\n",
    "            \n",
    "            \n",
    "            for count in range(len(high_data)):\n",
    "                school_list_name = high_data[\"School_name\"][count]\n",
    "                if school_list_name in Pschool_name:\n",
    "                    Found=True \n",
    "                    rank = count +1\n",
    "                    break \n",
    "                \n",
    "            if not Found:\n",
    "                for count in range (len(primary_data)):\n",
    "                    school_list_name = primary_data[\"School_name\"][count]\n",
    "                    if school_list_name in Pschool_name:\n",
    "                        Found=True \n",
    "                        rank =count+1\n",
    "                        break \n",
    "            school_dict.append([Pschool_name,distance,rank])\n",
    "                    \n",
    "        all_school_dict.append(school_dict)\n",
    "    if not os.path.exists(\"../data/curated/fifth_clean/\"):\n",
    "        os.makedirs(\"../data/curated/fifth_clean/\")\n",
    "    data[\"School_with_rank\"] = all_school_dict\n",
    "    data.to_csv(output_file,index=False)\n",
    "    \n",
    "    "
   ]
  },
  {
   "cell_type": "code",
   "execution_count": 176,
   "metadata": {},
   "outputs": [],
   "source": [
    "add_school_rank(\"../data/curated/fourth_clean/apartment_1.csv\",\"../data/curated/fifth_clean/apartment_1.csv\")\n",
    "add_school_rank(\"../data/curated/fourth_clean/apartment_2.csv\",\"../data/curated/fifth_clean/apartment_2.csv\")\n",
    "add_school_rank(\"../data/curated/fourth_clean/apartment_3.csv\",\"../data/curated/fifth_clean/apartment_3.csv\")\n",
    "add_school_rank(\"../data/curated/fourth_clean/apartment_4.csv\",\"../data/curated/fifth_clean/apartment_4.csv\")\n",
    "add_school_rank(\"../data/curated/fourth_clean/apartment_5.csv\",\"../data/curated/fifth_clean/apartment_5.csv\")\n",
    "add_school_rank(\"../data/curated/fourth_clean/house_1.csv\",\"../data/curated/fifth_clean/house_1.csv\")  \n",
    "add_school_rank(\"../data/curated/fourth_clean/house_2.csv\",\"../data/curated/fifth_clean/house_2.csv\")  \n",
    "add_school_rank(\"../data/curated/fourth_clean/house_3.csv\",\"../data/curated/fifth_clean/house_3.csv\")  \n",
    "add_school_rank(\"../data/curated/fourth_clean/house_4.csv\",\"../data/curated/fifth_clean/house_4.csv\")  \n",
    "add_school_rank(\"../data/curated/fourth_clean/town_house.csv\",\"../data/curated/fifth_clean/town_house.csv\")"
   ]
  }
 ],
 "metadata": {
  "kernelspec": {
   "display_name": "Python 3",
   "language": "python",
   "name": "python3"
  },
  "language_info": {
   "codemirror_mode": {
    "name": "ipython",
    "version": 3
   },
   "file_extension": ".py",
   "mimetype": "text/x-python",
   "name": "python",
   "nbconvert_exporter": "python",
   "pygments_lexer": "ipython3",
   "version": "3.10.3"
  },
  "orig_nbformat": 4
 },
 "nbformat": 4,
 "nbformat_minor": 2
}
