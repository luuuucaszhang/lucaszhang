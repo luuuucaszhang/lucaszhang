{
 "cells": [
  {
   "cell_type": "code",
   "execution_count": 1,
   "id": "f0224921",
   "metadata": {},
   "outputs": [],
   "source": [
    "import requests\n",
    "import openpyxl\n",
    "from openpyxl.utils.dataframe import dataframe_to_rows\n",
    "import pandas as pd"
   ]
  },
  {
   "cell_type": "code",
   "execution_count": null,
   "id": "ab626220",
   "metadata": {},
   "outputs": [],
   "source": [
    "url = \"https://www.dffh.vic.gov.au/moving-annual-rents-suburb-september-quarter-2022-excel\"\n",
    "\n",
    "response = requests.get(url)\n",
    "\n",
    "if response.status_code == 200:\n",
    "    with open(\"../data/landing/moving_annual_rents_september_2022.xlsx\", \"wb\") as file:\n",
    "        file.write(response.content)\n",
    "\n",
    "    print(\"XLSX file downloaded successfully.\")\n",
    "\n",
    "else:\n",
    "    print(f\"Failed to download the XLSX file. HTTP status code: {response.status_code}\")\n"
   ]
  }
 ],
 "metadata": {
  "kernelspec": {
   "display_name": "Python 3 (ipykernel)",
   "language": "python",
   "name": "python3"
  },
  "language_info": {
   "codemirror_mode": {
    "name": "ipython",
    "version": 3
   },
   "file_extension": ".py",
   "mimetype": "text/x-python",
   "name": "python",
   "nbconvert_exporter": "python",
   "pygments_lexer": "ipython3",
   "version": "3.10.3"
  }
 },
 "nbformat": 4,
 "nbformat_minor": 5
}
